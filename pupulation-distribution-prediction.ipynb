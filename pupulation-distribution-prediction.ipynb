{
 "cells": [
  {
   "cell_type": "markdown",
   "metadata": {},
   "source": [
    "# Import Required Libraries\n",
    "Import the necessary libraries, including pandas, sklearn, and os."
   ]
  },
  {
   "cell_type": "code",
   "execution_count": 17,
   "metadata": {},
   "outputs": [],
   "source": [
    "# Import required libraries\n",
    "import pandas as pd\n",
    "from sklearn.preprocessing import StandardScaler\n",
    "from sklearn.linear_model import LinearRegression\n",
    "from sklearn.model_selection import train_test_split\n",
    "from sklearn.metrics import mean_absolute_error, mean_squared_error, r2_score"
   ]
  },
  {
   "cell_type": "markdown",
   "metadata": {},
   "source": [
    "# Load the Dataset\n",
    "Load the dataset using pandas' read_csv function with low_memory=False."
   ]
  },
  {
   "cell_type": "code",
   "execution_count": 18,
   "metadata": {},
   "outputs": [],
   "source": [
    "# Load the training dataset\n",
    "train_df = pd.read_csv(\"data/WPP2022_PopulationBySingleAgeSex_Medium_1950-2021.csv\", low_memory=False)\n",
    "\n",
    "# Load the testing dataset\n",
    "test_df = pd.read_csv(\"data/WPP2022_PopulationBySingleAgeSex_Medium_2022-2100.csv\", low_memory=False)\n",
    "\n",
    "# Filter the test dataset for the years 2022 to 2024\n",
    "test_df = test_df[(test_df['Time'] >= 2022) & (test_df['Time'] <= 2024)].copy()\n",
    "\n",
    "# Change AgeGrp from '100+' to 100 in both datasets\n",
    "train_df.loc[train_df['AgeGrp'] == '100+', 'AgeGrp'] = 100\n",
    "test_df.loc[test_df['AgeGrp'] == '100+', 'AgeGrp'] = 100\n",
    "train_df['AgeGrp'] = train_df['AgeGrp'].astype(int)\n",
    "test_df['AgeGrp'] = test_df['AgeGrp'].astype(int)\n",
    "\n",
    "# Encode 'Location' using the mean score\n",
    "location_mean = train_df.groupby('Location')['PopTotal'].mean()\n",
    "train_df['Location'] = train_df['Location'].map(location_mean)\n",
    "test_df['Location'] = test_df['Location'].map(location_mean)\n"
   ]
  },
  {
   "cell_type": "markdown",
   "metadata": {},
   "source": [
    "# Select Features and Target\n",
    "Select the features including the categorical column 'Location' and the target column 'PopTotal'."
   ]
  },
  {
   "cell_type": "code",
   "execution_count": 19,
   "metadata": {},
   "outputs": [
    {
     "name": "stdout",
     "output_type": "stream",
     "text": [
      "Index(['SortOrder', 'LocID', 'Notes', 'ISO3_code', 'ISO2_code', 'SDMX_code',\n",
      "       'LocTypeID', 'LocTypeName', 'ParentID', 'Location', 'VarID', 'Variant',\n",
      "       'Time', 'MidPeriod', 'AgeGrp', 'AgeGrpStart', 'AgeGrpSpan', 'PopMale',\n",
      "       'PopFemale', 'PopTotal'],\n",
      "      dtype='object')\n"
     ]
    }
   ],
   "source": [
    "print(train_df.columns)"
   ]
  },
  {
   "cell_type": "code",
   "execution_count": 20,
   "metadata": {},
   "outputs": [
    {
     "name": "stdout",
     "output_type": "stream",
     "text": [
      "   Time  AgeGrp      Location\n",
      "0  1950       0  49589.039509\n",
      "1  1950       1  49589.039509\n",
      "2  1950       2  49589.039509\n",
      "3  1950       3  49589.039509\n",
      "4  1950       4  49589.039509\n"
     ]
    }
   ],
   "source": [
    "# Select the features and target for multivariate regression\n",
    "data_X= train_df[['Time', 'AgeGrp', 'Location']]\n",
    "data_Y = train_df['PopTotal']\n",
    "\n",
    "print(data_X.head())\n"
   ]
  },
  {
   "cell_type": "code",
   "execution_count": 21,
   "metadata": {},
   "outputs": [
    {
     "name": "stdout",
     "output_type": "stream",
     "text": [
      "0    81711.675\n",
      "1    72672.416\n",
      "2    66708.833\n",
      "3    62569.586\n",
      "4    58214.285\n",
      "Name: PopTotal, dtype: float64\n"
     ]
    }
   ],
   "source": [
    "print(data_Y.head())"
   ]
  },
  {
   "cell_type": "code",
   "execution_count": 22,
   "metadata": {},
   "outputs": [
    {
     "name": "stdout",
     "output_type": "stream",
     "text": [
      "   Time  AgeGrp      Location    PopTotal\n",
      "0  2022       0  49589.039509  130904.542\n",
      "1  2022       1  49589.039509  130519.393\n",
      "2  2022       2  49589.039509  132047.198\n",
      "3  2022       3  49589.039509  133853.549\n",
      "4  2022       4  49589.039509  135781.617\n"
     ]
    }
   ],
   "source": [
    "print(test_df[['Time', 'AgeGrp', 'Location', 'PopTotal']].head())"
   ]
  },
  {
   "cell_type": "code",
   "execution_count": 23,
   "metadata": {},
   "outputs": [
    {
     "name": "stdout",
     "output_type": "stream",
     "text": [
      "Mean Absolute Error: 2411.1796252350146\n",
      "Mean Squared Error: 51118141.070942596\n",
      "R^2 Score: 0.6047579487083637\n"
     ]
    }
   ],
   "source": [
    "# Initialize the Linear Regression model\n",
    "model = LinearRegression()\n",
    "\n",
    "# Split the data into training and testing sets\n",
    "X_train = data_X\n",
    "Y_train = data_Y\n",
    "X_test = test_df[['Time', 'AgeGrp', 'Location']]\n",
    "Y_test = test_df['PopTotal']\n",
    "\n",
    "# Train the model\n",
    "model.fit(X_train, Y_train)\n",
    "\n",
    "# Make predictions\n",
    "Y_pred = model.predict(X_test)\n",
    "\n",
    "# Evaluate the model\n",
    "mae = mean_absolute_error(Y_test, Y_pred)\n",
    "mse = mean_squared_error(Y_test, Y_pred)\n",
    "r2 = r2_score(Y_test, Y_pred)\n",
    "\n",
    "print(f\"Mean Absolute Error: {mae}\")\n",
    "print(f\"Mean Squared Error: {mse}\")\n",
    "print(f\"R^2 Score: {r2}\")\n",
    "\n",
    "# Save the predictions to a file\n",
    "predictions_df = test_df[['Time', 'AgeGrp', 'Location']].copy()\n",
    "predictions_df['Predicted_PopTotal'] = Y_pred\n",
    "predictions_df.to_csv(\"data/test/predictions_2022_2024.csv\", index=False)\n",
    "print(predictions_df.head())"
   ]
  }
 ],
 "metadata": {
  "kernelspec": {
   "display_name": "venv",
   "language": "python",
   "name": "python3"
  },
  "language_info": {
   "codemirror_mode": {
    "name": "ipython",
    "version": 3
   },
   "file_extension": ".py",
   "mimetype": "text/x-python",
   "name": "python",
   "nbconvert_exporter": "python",
   "pygments_lexer": "ipython3",
   "version": "3.11.11"
  }
 },
 "nbformat": 4,
 "nbformat_minor": 2
}
